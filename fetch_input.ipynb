{
 "cells": [
  {
   "cell_type": "code",
   "execution_count": 1,
   "metadata": {},
   "outputs": [],
   "source": [
    "import pyodbc\n",
    "import pandas as pd\n",
    "import numpy as np\n",
    "import seaborn as sns\n",
    "import matplotlib.pyplot as plt"
   ]
  },
  {
   "cell_type": "code",
   "execution_count": 2,
   "metadata": {},
   "outputs": [],
   "source": [
    "# Configuración de la cadena de conexión\n",
    "server = '192.168.5.23'  # Dirección del servidor\n",
    "database = 'Sic_Grp'  # Nombre de la base de datos\n",
    "username = 'UsrOptEstiba'  # Usuario proporcionado\n",
    "password = '-20241204-'  # Contraseña proporcionada\n",
    "driver = '{ODBC Driver 17 for SQL Server}'  # Driver ODBC"
   ]
  },
  {
   "cell_type": "code",
   "execution_count": 3,
   "metadata": {},
   "outputs": [
    {
     "name": "stdout",
     "output_type": "stream",
     "text": [
      "Conexión exitosa a la base de datos.\n",
      "Conexión cerrada.\n"
     ]
    }
   ],
   "source": [
    "# Crear la conexión\n",
    "try:\n",
    "    connection = pyodbc.connect(\n",
    "        f\"DRIVER={driver};SERVER={server};DATABASE={database};UID={username};PWD={password}\"\n",
    "    )\n",
    "    print(\"Conexión exitosa a la base de datos.\")\n",
    "\n",
    "    # Crear un cursor para ejecutar consultas\n",
    "    cursor = connection.cursor()\n",
    "\n",
    "    # Consulta para obtener datos de la vista filtrando por almacén 'bcn'\n",
    "    query = \"\"\"\n",
    "    SELECT * \n",
    "    FROM sic_grp.dbo.TXALPartidaEstanciaOptEstibaV \n",
    "    WHERE almacenalias='bcn'\n",
    "    \"\"\"\n",
    "    \n",
    "    # Ejecutar la consulta\n",
    "    cursor.execute(query)\n",
    "    \n",
    "    # Get field (column) names\n",
    "    field_names = [column[0] for column in cursor.description]\n",
    "\n",
    "    # Obtener los resultados\n",
    "    results = cursor.fetchall()\n",
    "    \n",
    "except Exception as e:\n",
    "    print(f\"Error conectando a la base de datos: {e}\")\n",
    "    \n",
    "finally:\n",
    "    if 'connection' in locals() and connection:\n",
    "        connection.close()\n",
    "        print(\"Conexión cerrada.\")"
   ]
  },
  {
   "cell_type": "code",
   "execution_count": 4,
   "metadata": {},
   "outputs": [],
   "source": [
    "field_names = [name.strip() for name in field_names]\n",
    "results = [tuple(row) for row in results] \n",
    "assert np.shape(results)[1] == len(field_names)"
   ]
  },
  {
   "cell_type": "code",
   "execution_count": 5,
   "metadata": {},
   "outputs": [],
   "source": [
    "# Convert results to a DataFrame\n",
    "results_df = pd.DataFrame(results, columns=field_names)"
   ]
  },
  {
   "cell_type": "code",
   "execution_count": 6,
   "metadata": {},
   "outputs": [],
   "source": [
    "results_df['Remontable'] = results_df['NoRemontable'].map({0: 1, 1:0})\n",
    "results_df['CodigoViaje'] = 0\n",
    "results_df['FechaCargaContenedor'] = 0\n",
    "results_df['Volumen'] = results_df['PartidaLargo']*results_df['PartidaAncho']*results_df['PartidaAlto']"
   ]
  },
  {
   "cell_type": "code",
   "execution_count": 7,
   "metadata": {},
   "outputs": [
    {
     "data": {
      "text/plain": [
       "Index(['AlmacenCodigo', 'AlmacenAlias', 'ExpedicionDestino', 'Expedicion',\n",
       "       'ExpedicionAdr', 'ExpedicionLevanteExportDt', 'ExpedicionCliente',\n",
       "       'FechaEntradaAlmacen', 'Partida', 'PesoKg', 'LargoCm', 'AltoCm',\n",
       "       'AnchoCm', 'PasadaPorVolumetrica', 'DatosVolumetricosClonados',\n",
       "       'TipoPartida', 'NoRemontable', 'Remontable', 'CodigoViaje',\n",
       "       'FechaCargaContenedor', 'Volumen'],\n",
       "      dtype='object')"
      ]
     },
     "execution_count": 7,
     "metadata": {},
     "output_type": "execute_result"
    }
   ],
   "source": [
    "mapper = {'ExpedicionCodigo': 'Expedicion',\n",
    "        'PartidaKg': 'PesoKg', \n",
    "        'PartidaLargo': 'LargoCm', \n",
    "        'PartidaAncho': 'AnchoCm', \n",
    "        'PartidaAlto': 'AltoCm',\n",
    "        'PartidaCodigoPartida': 'Partida',\n",
    "        'PartidaFechaEntrada': 'FechaEntradaAlmacen',\n",
    "        'PartidaTipo': 'TipoPartida'}\n",
    "\n",
    "results_df = results_df.rename(columns=mapper)\n",
    "results_df.columns"
   ]
  },
  {
   "cell_type": "code",
   "execution_count": 8,
   "metadata": {},
   "outputs": [
    {
     "data": {
      "text/plain": [
       "8"
      ]
     },
     "execution_count": 8,
     "metadata": {},
     "output_type": "execute_result"
    }
   ],
   "source": [
    "input_df = results_df[(results_df['ExpedicionDestino'] == 'PMI') & (results_df['PasadaPorVolumetrica'] == 1) & (results_df['TipoPartida'] == 'Palet')]\n",
    "input_df.to_excel('input_RCH/test_1.xlsx')\n",
    "len(input_df)"
   ]
  }
 ],
 "metadata": {
  "kernelspec": {
   "display_name": "Python 3",
   "language": "python",
   "name": "python3"
  },
  "language_info": {
   "codemirror_mode": {
    "name": "ipython",
    "version": 3
   },
   "file_extension": ".py",
   "mimetype": "text/x-python",
   "name": "python",
   "nbconvert_exporter": "python",
   "pygments_lexer": "ipython3",
   "version": "3.11.9"
  }
 },
 "nbformat": 4,
 "nbformat_minor": 2
}
