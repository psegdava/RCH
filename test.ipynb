{
 "cells": [
  {
   "cell_type": "code",
   "execution_count": 1,
   "id": "0e609c7b",
   "metadata": {},
   "outputs": [],
   "source": [
    "import json\n",
    "import os\n",
    "import pandas as pd\n",
    "from time import time\n",
    "from tqdm import tqdm\n",
    "from typing import List, Dict, Tuple\n",
    "from src.RCH_module.RCH import get_volumes\n",
    "from src.utils.utils import load_data, preprocess_data\n",
    "from src.evaluation_module.evaluation import evaluate_solution"
   ]
  },
  {
   "cell_type": "code",
   "execution_count": 2,
   "id": "d2f91fa2",
   "metadata": {},
   "outputs": [],
   "source": [
    "def select_viajes(df_viajes: pd.DataFrame) -> pd.DataFrame:\n",
    "    \"\"\"\n",
    "    Select specific voyages based on criteria:\n",
    "    - Container type is \"MAXI 45'\"\n",
    "    - Loaded last week.\n",
    "    \"\"\"\n",
    "    # Filter only \"MaXI 45'\" container type\n",
    "    filter_1 = df_viajes[\"TipoEquipo\"] == \"MAXI 45'\"\n",
    "    filter_2 = df_viajes[\"FechaCierreEstancia\"] >= pd.Timestamp.now() - pd.Timedelta(days=7)\n",
    "    # Select relevant columns\n",
    "    columns = [\n",
    "        \"CodigoViaje\", \"FechaCierreEstancia\", \"NumExpediciones\", \"Destinos\",\"AltoCm\", \"LargoCm\",\n",
    "        \"AnchoCm\", \"VolumenCargado\", \"VolumenMax\", \"Volumen%\"\n",
    "    ]\n",
    "\n",
    "    # Filter the DataFrame based on the conditions\n",
    "    df_viajes = df_viajes[filter_1 & filter_2][columns]\n",
    "\n",
    "    # Drop viajes that have NaN in \"VolumenCargado\"\n",
    "    df_viajes = df_viajes.dropna(subset=[\"VolumenCargado\"])\n",
    "\n",
    "    # Separate destinations into list\n",
    "    df_viajes[\"Destinos\"] = df_viajes[\"Destinos\"].apply(lambda x: x.split(\";\"))\n",
    "\n",
    "    return df_viajes.reset_index(drop=True)\n"
   ]
  },
  {
   "cell_type": "markdown",
   "id": "17d89a9a",
   "metadata": {},
   "source": [
    "CodigoViaje\tTipoEquipo\tTipoEquipoAltoMetros\tTipoEquipoAnchoMetros\tTipoEquipoLongitudMetros\tFechaApertura\tFechaCierreViaje\tFechaCierreEstancia\tFechaPrimeraLectura\tFechaUltimaLectura\tNumExpediciones\tNumPartidas\tNumPalets\tNumBultos\tDestinos\n",
    "VBCN2501790\tMAXI 45'\t2,4\t2,4\t13,5\t05/06/2025 14:49\t05/06/2025 19:15\t05/06/2025 19:15\t05/06/2025 15:41\t05/06/2025 19:15\t34\t52\t47\t5\tPMI\n",
    "\n"
   ]
  },
  {
   "cell_type": "code",
   "execution_count": 11,
   "id": "61620282",
   "metadata": {},
   "outputs": [],
   "source": [
    "def select_initial_partidas(df_partidas: pd.DataFrame) -> pd.DataFrame:\n",
    "    \"\"\"\n",
    "    Select partidas that where in the warehouse at the beginning of last week.\n",
    "\n",
    "    Args:\n",
    "        df_partidas (pd.DataFrame): DataFrame containing partida information.\n",
    "\n",
    "    Returns:\n",
    "        pd.DataFrame: Filtered DataFrame with relevant partidas.\n",
    "    \"\"\"\n",
    "    # Filter partidas that were in the warehouse at the beginning of last week\n",
    "    # Select last monday at 00:00:00\n",
    "    now = pd.Timestamp.now()\n",
    "    last_monday = now - pd.Timedelta(days=now.weekday()+7, hours=now.hour, minutes=now.minute, seconds=now.second)\n",
    "    filter_1 = df_partidas[\"FechaCargaContenedor\"] >= last_monday\n",
    "    \n",
    "\n",
    "    # CodigoViaje\tFechaCargaContenedor\tFechaEntradaAlmacen\tExpedicion\tPartida\tPesoKg\tLargoCm\tAltoCm\tAnchoCm\tTipoPartida\tRemontable\tDestino\tDatosClonados\tAdr\tDtLevanteExport\tPuroVolumetrica\tTratadaVOlumetrica\tCliente\tVolumen\n",
    "\n",
    "\n",
    "    # Filter the DataFrame based on the conditions\n",
    "    df_partidas = df_partidas[filter_1]\n",
    "    # Drop the rows with NaN in \"PesoKg\", \"LargoCm\", \"AltoCm\", \"AnchoCm\"\n",
    "    df_partidas = df_partidas.dropna(subset=[\"PesoKg\", \"LargoCm\", \"AltoCm\", \"AnchoCm\"])\n",
    "    # Reset index\n",
    "    df_partidas = df_partidas.reset_index(drop=True)\n",
    "\n",
    "    return df_partidas"
   ]
  },
  {
   "cell_type": "code",
   "execution_count": 4,
   "id": "56aa94e1",
   "metadata": {},
   "outputs": [],
   "source": [
    "def update_partidas_warehouse(df_partidas: pd.DataFrame, solucion) -> pd.DataFrame:\n",
    "    \"\"\"\n",
    "    Update the partidas DataFrame with the volumes from the solution.\n",
    "\n",
    "    Args:\n",
    "        df_partidas (pd.DataFrame): DataFrame containing partida information.\n",
    "        solucion (dict): Solution dictionary containing volumes for each partida.\n",
    "\n",
    "    Returns:\n",
    "        pd.DataFrame: Updated DataFrame with volumes.\n",
    "    \"\"\"\n",
    "    loaded_partidas = [i for ((i, _), _) in solucion[\"solution\"]]\n",
    "    # Drop partidas that are in the solution\n",
    "    df_partidas = df_partidas[~df_partidas[\"Partida\"].isin(loaded_partidas)]\n",
    "\n",
    "    # Reset the index\n",
    "    df_partidas = df_partidas.reset_index(drop=True)\n",
    "\n",
    "    # Return the updated DataFrame\n",
    "    return df_partidas"
   ]
  },
  {
   "cell_type": "code",
   "execution_count": 5,
   "id": "10aeab06",
   "metadata": {},
   "outputs": [],
   "source": [
    "def select_partidas_at_time_for_dest(df_partidas: pd.DataFrame, time: str, dest: List[str]) -> pd.DataFrame:\n",
    "    \"\"\"\n",
    "    Select shipments that are present in the warehouse at a specific time for a given destination.\n",
    "\n",
    "    Args:\n",
    "        df_partidas (pd.DataFrame): DataFrame containing partida information.\n",
    "        time (str): Time in the format \"YYYY-MM-DD HH:MM:SS\".\n",
    "        dest (List[str]): List of destinations to filter by.\n",
    "\n",
    "    Returns:\n",
    "        pd.DataFrame: Filtered DataFrame with relevant partidas.\n",
    "    \"\"\"\n",
    "    # Convert time to timestamp\n",
    "    time = pd.Timestamp(time)\n",
    "\n",
    "    # Filter partidas that are in the warehouse at the specified time\n",
    "    filter_1 = df_partidas[\"FechaEntradaAlmacen\"] < time\n",
    "    filter_2 = df_partidas[\"Destino\"].isin(dest)\n",
    "\n",
    "    # Filter the DataFrame based on the conditions\n",
    "    df_partidas = df_partidas[filter_1 & filter_2]\n",
    "\n",
    "    # Obtain the partidas from the previous solution\n",
    "\n",
    "    # Reset index\n",
    "    df_partidas = df_partidas.reset_index(drop=True)\n",
    "\n",
    "    return df_partidas"
   ]
  },
  {
   "cell_type": "code",
   "execution_count": 12,
   "id": "606fb1b3",
   "metadata": {},
   "outputs": [],
   "source": [
    "df_viajes, df_partidas = load_data(\"input_total/ult_version_20250606.xlsx\")\n",
    "df_viajes, df_partidas = preprocess_data(df_viajes, df_partidas)"
   ]
  },
  {
   "cell_type": "code",
   "execution_count": 13,
   "id": "c93da620",
   "metadata": {},
   "outputs": [],
   "source": [
    "# Select voyages\n",
    "container_dimensions = (1350, 246, 259)\n",
    "df_viajes_filtered = select_viajes(df_viajes)"
   ]
  },
  {
   "cell_type": "code",
   "execution_count": 14,
   "id": "a7710531",
   "metadata": {},
   "outputs": [
    {
     "data": {
      "application/vnd.microsoft.datawrangler.viewer.v0+json": {
       "columns": [
        {
         "name": "index",
         "rawType": "int64",
         "type": "integer"
        },
        {
         "name": "CodigoViaje",
         "rawType": "object",
         "type": "string"
        },
        {
         "name": "FechaCargaContenedor",
         "rawType": "datetime64[ns]",
         "type": "datetime"
        },
        {
         "name": "FechaEntradaAlmacen",
         "rawType": "datetime64[ns]",
         "type": "datetime"
        },
        {
         "name": "Expedicion",
         "rawType": "object",
         "type": "string"
        },
        {
         "name": "Partida",
         "rawType": "object",
         "type": "string"
        },
        {
         "name": "PesoKg",
         "rawType": "int64",
         "type": "integer"
        },
        {
         "name": "LargoCm",
         "rawType": "float64",
         "type": "float"
        },
        {
         "name": "AltoCm",
         "rawType": "float64",
         "type": "float"
        },
        {
         "name": "AnchoCm",
         "rawType": "float64",
         "type": "float"
        },
        {
         "name": "TipoPartida",
         "rawType": "object",
         "type": "string"
        },
        {
         "name": "Remontable",
         "rawType": "int64",
         "type": "integer"
        },
        {
         "name": "Destino",
         "rawType": "object",
         "type": "string"
        },
        {
         "name": "DatosClonados",
         "rawType": "object",
         "type": "string"
        },
        {
         "name": "Adr",
         "rawType": "int64",
         "type": "integer"
        },
        {
         "name": "DtLevanteExport",
         "rawType": "object",
         "type": "unknown"
        },
        {
         "name": "PuroVolumetrica",
         "rawType": "int64",
         "type": "integer"
        },
        {
         "name": "TratadaVOlumetrica",
         "rawType": "int64",
         "type": "integer"
        },
        {
         "name": "Cliente",
         "rawType": "object",
         "type": "string"
        },
        {
         "name": "Volumen",
         "rawType": "float64",
         "type": "float"
        }
       ],
       "ref": "bdad9c9c-5acf-4440-b2bd-820a6a8673b4",
       "rows": [
        [
         "158",
         "VBCN2501768",
         "2025-06-05 11:46:04",
         "2025-06-04 09:49:44",
         "EBCN2521122",
         "SBCN25047868",
         "3",
         "46.0",
         "42.0",
         "17.0",
         "BULTO",
         "0",
         "MAH",
         "DATOS NO CLONADOS",
         "0",
         null,
         "0",
         "1",
         "DSV AIR & SEA SAU",
         "32844.0"
        ],
        [
         "10",
         "VBCN2501781",
         "2025-06-04 18:16:01",
         "2025-06-04 17:21:18",
         "EBCN2521296",
         "SBCN25048394",
         "100",
         "120.0",
         "150.0",
         "80.0",
         "PALET",
         "0",
         "PMI",
         "DATOS NO CLONADOS",
         "0",
         null,
         "0",
         "0",
         "PALIBEX LOGISTICA S.L.",
         "1440000.0"
        ],
        [
         "5",
         "VBCN2501780",
         "2025-06-04 18:15:38",
         "2025-06-04 17:21:18",
         "EBCN2521300",
         "SBCN25048401",
         "150",
         "120.0",
         "60.0",
         "100.0",
         "PALET",
         "0",
         "IBZ",
         "DATOS NO CLONADOS",
         "0",
         null,
         "0",
         "0",
         "PALIBEX LOGISTICA S.L.",
         "720000.0"
        ],
        [
         "9",
         "VBCN2501781",
         "2025-06-04 18:15:05",
         "2025-06-04 17:21:18",
         "EBCN2521287",
         "SBCN25048383",
         "220",
         "120.0",
         "220.0",
         "100.0",
         "PALET",
         "0",
         "PMI",
         "DATOS NO CLONADOS",
         "0",
         null,
         "0",
         "0",
         "PALIBEX LOGISTICA S.L.",
         "2640000.0"
        ],
        [
         "4",
         "VBCN2501780",
         "2025-06-04 18:14:51",
         "2025-06-04 17:21:18",
         "EBCN2521302",
         "SBCN25048403",
         "200",
         "200.0",
         "135.0",
         "120.0",
         "PALET",
         "0",
         "IBZ",
         "DATOS NO CLONADOS",
         "0",
         null,
         "0",
         "0",
         "PALIBEX LOGISTICA S.L.",
         "3240000.0"
        ]
       ],
       "shape": {
        "columns": 19,
        "rows": 5
       }
      },
      "text/html": [
       "<div>\n",
       "<style scoped>\n",
       "    .dataframe tbody tr th:only-of-type {\n",
       "        vertical-align: middle;\n",
       "    }\n",
       "\n",
       "    .dataframe tbody tr th {\n",
       "        vertical-align: top;\n",
       "    }\n",
       "\n",
       "    .dataframe thead th {\n",
       "        text-align: right;\n",
       "    }\n",
       "</style>\n",
       "<table border=\"1\" class=\"dataframe\">\n",
       "  <thead>\n",
       "    <tr style=\"text-align: right;\">\n",
       "      <th></th>\n",
       "      <th>CodigoViaje</th>\n",
       "      <th>FechaCargaContenedor</th>\n",
       "      <th>FechaEntradaAlmacen</th>\n",
       "      <th>Expedicion</th>\n",
       "      <th>Partida</th>\n",
       "      <th>PesoKg</th>\n",
       "      <th>LargoCm</th>\n",
       "      <th>AltoCm</th>\n",
       "      <th>AnchoCm</th>\n",
       "      <th>TipoPartida</th>\n",
       "      <th>Remontable</th>\n",
       "      <th>Destino</th>\n",
       "      <th>DatosClonados</th>\n",
       "      <th>Adr</th>\n",
       "      <th>DtLevanteExport</th>\n",
       "      <th>PuroVolumetrica</th>\n",
       "      <th>TratadaVOlumetrica</th>\n",
       "      <th>Cliente</th>\n",
       "      <th>Volumen</th>\n",
       "    </tr>\n",
       "  </thead>\n",
       "  <tbody>\n",
       "    <tr>\n",
       "      <th>158</th>\n",
       "      <td>VBCN2501768</td>\n",
       "      <td>2025-06-05 11:46:04</td>\n",
       "      <td>2025-06-04 09:49:44</td>\n",
       "      <td>EBCN2521122</td>\n",
       "      <td>SBCN25047868</td>\n",
       "      <td>3</td>\n",
       "      <td>46.0</td>\n",
       "      <td>42.0</td>\n",
       "      <td>17.0</td>\n",
       "      <td>BULTO</td>\n",
       "      <td>0</td>\n",
       "      <td>MAH</td>\n",
       "      <td>DATOS NO CLONADOS</td>\n",
       "      <td>0</td>\n",
       "      <td>NaN</td>\n",
       "      <td>0</td>\n",
       "      <td>1</td>\n",
       "      <td>DSV AIR &amp; SEA SAU</td>\n",
       "      <td>32844.0</td>\n",
       "    </tr>\n",
       "    <tr>\n",
       "      <th>10</th>\n",
       "      <td>VBCN2501781</td>\n",
       "      <td>2025-06-04 18:16:01</td>\n",
       "      <td>2025-06-04 17:21:18</td>\n",
       "      <td>EBCN2521296</td>\n",
       "      <td>SBCN25048394</td>\n",
       "      <td>100</td>\n",
       "      <td>120.0</td>\n",
       "      <td>150.0</td>\n",
       "      <td>80.0</td>\n",
       "      <td>PALET</td>\n",
       "      <td>0</td>\n",
       "      <td>PMI</td>\n",
       "      <td>DATOS NO CLONADOS</td>\n",
       "      <td>0</td>\n",
       "      <td>NaN</td>\n",
       "      <td>0</td>\n",
       "      <td>0</td>\n",
       "      <td>PALIBEX LOGISTICA S.L.</td>\n",
       "      <td>1440000.0</td>\n",
       "    </tr>\n",
       "    <tr>\n",
       "      <th>5</th>\n",
       "      <td>VBCN2501780</td>\n",
       "      <td>2025-06-04 18:15:38</td>\n",
       "      <td>2025-06-04 17:21:18</td>\n",
       "      <td>EBCN2521300</td>\n",
       "      <td>SBCN25048401</td>\n",
       "      <td>150</td>\n",
       "      <td>120.0</td>\n",
       "      <td>60.0</td>\n",
       "      <td>100.0</td>\n",
       "      <td>PALET</td>\n",
       "      <td>0</td>\n",
       "      <td>IBZ</td>\n",
       "      <td>DATOS NO CLONADOS</td>\n",
       "      <td>0</td>\n",
       "      <td>NaN</td>\n",
       "      <td>0</td>\n",
       "      <td>0</td>\n",
       "      <td>PALIBEX LOGISTICA S.L.</td>\n",
       "      <td>720000.0</td>\n",
       "    </tr>\n",
       "    <tr>\n",
       "      <th>9</th>\n",
       "      <td>VBCN2501781</td>\n",
       "      <td>2025-06-04 18:15:05</td>\n",
       "      <td>2025-06-04 17:21:18</td>\n",
       "      <td>EBCN2521287</td>\n",
       "      <td>SBCN25048383</td>\n",
       "      <td>220</td>\n",
       "      <td>120.0</td>\n",
       "      <td>220.0</td>\n",
       "      <td>100.0</td>\n",
       "      <td>PALET</td>\n",
       "      <td>0</td>\n",
       "      <td>PMI</td>\n",
       "      <td>DATOS NO CLONADOS</td>\n",
       "      <td>0</td>\n",
       "      <td>NaN</td>\n",
       "      <td>0</td>\n",
       "      <td>0</td>\n",
       "      <td>PALIBEX LOGISTICA S.L.</td>\n",
       "      <td>2640000.0</td>\n",
       "    </tr>\n",
       "    <tr>\n",
       "      <th>4</th>\n",
       "      <td>VBCN2501780</td>\n",
       "      <td>2025-06-04 18:14:51</td>\n",
       "      <td>2025-06-04 17:21:18</td>\n",
       "      <td>EBCN2521302</td>\n",
       "      <td>SBCN25048403</td>\n",
       "      <td>200</td>\n",
       "      <td>200.0</td>\n",
       "      <td>135.0</td>\n",
       "      <td>120.0</td>\n",
       "      <td>PALET</td>\n",
       "      <td>0</td>\n",
       "      <td>IBZ</td>\n",
       "      <td>DATOS NO CLONADOS</td>\n",
       "      <td>0</td>\n",
       "      <td>NaN</td>\n",
       "      <td>0</td>\n",
       "      <td>0</td>\n",
       "      <td>PALIBEX LOGISTICA S.L.</td>\n",
       "      <td>3240000.0</td>\n",
       "    </tr>\n",
       "  </tbody>\n",
       "</table>\n",
       "</div>"
      ],
      "text/plain": [
       "     CodigoViaje FechaCargaContenedor FechaEntradaAlmacen   Expedicion  \\\n",
       "158  VBCN2501768  2025-06-05 11:46:04 2025-06-04 09:49:44  EBCN2521122   \n",
       "10   VBCN2501781  2025-06-04 18:16:01 2025-06-04 17:21:18  EBCN2521296   \n",
       "5    VBCN2501780  2025-06-04 18:15:38 2025-06-04 17:21:18  EBCN2521300   \n",
       "9    VBCN2501781  2025-06-04 18:15:05 2025-06-04 17:21:18  EBCN2521287   \n",
       "4    VBCN2501780  2025-06-04 18:14:51 2025-06-04 17:21:18  EBCN2521302   \n",
       "\n",
       "          Partida  PesoKg  LargoCm  AltoCm  AnchoCm TipoPartida  Remontable  \\\n",
       "158  SBCN25047868       3     46.0    42.0     17.0       BULTO           0   \n",
       "10   SBCN25048394     100    120.0   150.0     80.0       PALET           0   \n",
       "5    SBCN25048401     150    120.0    60.0    100.0       PALET           0   \n",
       "9    SBCN25048383     220    120.0   220.0    100.0       PALET           0   \n",
       "4    SBCN25048403     200    200.0   135.0    120.0       PALET           0   \n",
       "\n",
       "    Destino      DatosClonados  Adr DtLevanteExport  PuroVolumetrica  \\\n",
       "158     MAH  DATOS NO CLONADOS    0             NaN                0   \n",
       "10      PMI  DATOS NO CLONADOS    0             NaN                0   \n",
       "5       IBZ  DATOS NO CLONADOS    0             NaN                0   \n",
       "9       PMI  DATOS NO CLONADOS    0             NaN                0   \n",
       "4       IBZ  DATOS NO CLONADOS    0             NaN                0   \n",
       "\n",
       "     TratadaVOlumetrica                 Cliente    Volumen  \n",
       "158                   1       DSV AIR & SEA SAU    32844.0  \n",
       "10                    0  PALIBEX LOGISTICA S.L.  1440000.0  \n",
       "5                     0  PALIBEX LOGISTICA S.L.   720000.0  \n",
       "9                     0  PALIBEX LOGISTICA S.L.  2640000.0  \n",
       "4                     0  PALIBEX LOGISTICA S.L.  3240000.0  "
      ]
     },
     "execution_count": 14,
     "metadata": {},
     "output_type": "execute_result"
    }
   ],
   "source": [
    "# For each voyage, get the available partidas at the time of the voyage\n",
    "df_partidas_filtered = select_initial_partidas(df_partidas)\n",
    "df_partidas_filtered.sort_values(by=[\"FechaCargaContenedor\"], ascending=False).head(5)"
   ]
  },
  {
   "cell_type": "code",
   "execution_count": 15,
   "id": "cdb07842",
   "metadata": {},
   "outputs": [
    {
     "name": "stdout",
     "output_type": "stream",
     "text": [
      "Processing voyage 1/5...\n"
     ]
    },
    {
     "name": "stderr",
     "output_type": "stream",
     "text": [
      "Generating solutions: 100%|██████████| 15000/15000 [17:38<00:00, 14.18it/s]\n"
     ]
    },
    {
     "name": "stdout",
     "output_type": "stream",
     "text": [
      "Solution 1 with score (69.31118807541571, 96.81752484191509, 1350) and 143 not loaded boxes:\n",
      "Solution 2 with score (69.17136648843966, 95.2836495031617, 1344) and 140 not loaded boxes:\n",
      "Solution 3 with score (68.5625579121514, 94.72869617585064, 1347) and 149 not loaded boxes:\n",
      "Solution 4 with score (68.43327648205697, 94.38452273411623, 1346) and 131 not loaded boxes:\n",
      "Solution 5 with score (68.35124787970317, 94.74284853959651, 1349) and 139 not loaded boxes:\n",
      "Voyage: VBCN2501780, Destination: ['IBZ'], Volumes: (59.78447236606836, (56.51626423171139, 97.82083709725985, 1350), (69.31118807541571, 96.81752484191509, 1350), 143)\n",
      "Processing voyage 2/5...\n"
     ]
    },
    {
     "name": "stderr",
     "output_type": "stream",
     "text": [
      "Generating solutions: 100%|██████████| 15000/15000 [18:57<00:00, 13.18it/s] \n"
     ]
    },
    {
     "name": "stdout",
     "output_type": "stream",
     "text": [
      "Solution 1 with score (60.51560154812188, 95.60252935862692, 1350) and 107 not loaded boxes:\n",
      "Solution 2 with score (60.46697801169346, 95.66726889491117, 1350) and 103 not loaded boxes:\n",
      "Solution 3 with score (60.444656038151976, 95.66726889491117, 1350) and 103 not loaded boxes:\n",
      "Solution 4 with score (60.400012091069, 95.66726889491117, 1350) and 103 not loaded boxes:\n",
      "Solution 5 with score (60.33304617044455, 95.66726889491117, 1350) and 104 not loaded boxes:\n",
      "Voyage: VBCN2501764, Destination: ['IBZ'], Volumes: (55.64288255552892, (59.47192023614788, 96.97982535380909, 1350), (60.51560154812188, 95.60252935862692, 1350), 107)\n",
      "Processing voyage 3/5...\n"
     ]
    },
    {
     "name": "stderr",
     "output_type": "stream",
     "text": [
      "Generating solutions: 100%|██████████| 15000/15000 [47:42<00:00,  5.24it/s]    \n"
     ]
    },
    {
     "name": "stdout",
     "output_type": "stream",
     "text": [
      "Solution 1 with score (80.16480708350628, 94.9286359530262, 1339) and 120 not loaded boxes:\n",
      "Solution 2 with score (78.98243539706954, 94.36856368563686, 1338) and 121 not loaded boxes:\n",
      "Solution 3 with score (78.7616861925805, 95.48449262270401, 1349) and 117 not loaded boxes:\n",
      "Solution 4 with score (78.6845405219389, 95.53086419753086, 1345) and 118 not loaded boxes:\n",
      "Solution 5 with score (78.64658735390442, 95.53297199638664, 1350) and 119 not loaded boxes:\n",
      "Voyage: VBCN2501768, Destination: ['MAH'], Volumes: (73.88987006184719, (77.35256510866267, 95.90454682324601, 1350), (80.16480708350628, 94.9286359530262, 1339), 120)\n",
      "Processing voyage 4/5...\n"
     ]
    },
    {
     "name": "stderr",
     "output_type": "stream",
     "text": [
      "Generating solutions: 100%|██████████| 15000/15000 [37:40<00:00,  6.64it/s] \n"
     ]
    },
    {
     "name": "stdout",
     "output_type": "stream",
     "text": [
      "Solution 1 with score (79.997854997855, 93.24661246612466, 1348) and 493 not loaded boxes:\n",
      "Solution 2 with score (79.86067135660632, 92.68172237277929, 1350) and 501 not loaded boxes:\n",
      "Solution 3 with score (79.83775529303985, 93.1306835290575, 1350) and 492 not loaded boxes:\n",
      "Solution 4 with score (79.83576375446295, 92.23065341764529, 1345) and 504 not loaded boxes:\n",
      "Solution 5 with score (79.79462970519882, 92.65552544414332, 1350) and 487 not loaded boxes:\n",
      "Voyage: VBCN2501779, Destination: ['PMI'], Volumes: (76.08740733667291, (76.96797029317355, 93.84884071062933, 1350), (79.997854997855, 93.24661246612466, 1348), 493)\n",
      "Processing voyage 5/5...\n"
     ]
    },
    {
     "name": "stderr",
     "output_type": "stream",
     "text": [
      "Generating solutions: 100%|██████████| 15000/15000 [26:00<00:00,  9.61it/s]  \n"
     ]
    },
    {
     "name": "stdout",
     "output_type": "stream",
     "text": [
      "Solution 1 with score (61.52305383199692, 92.74947305028606, 1348) and 433 not loaded boxes:\n",
      "Solution 2 with score (60.957094144086014, 92.67449563384523, 1349) and 438 not loaded boxes:\n",
      "Solution 3 with score (60.42420818030574, 92.02950918398074, 1348) and 430 not loaded boxes:\n",
      "Solution 4 with score (59.93352469775234, 93.66726889491117, 1340) and 434 not loaded boxes:\n",
      "Solution 5 with score (59.780656382282395, 92.53538090936465, 1350) and 434 not loaded boxes:\n",
      "Voyage: VBCN2501765, Destination: ['PMI'], Volumes: (54.85590800754893, (56.67041954846833, 96.62059620596206, 1350), (61.52305383199692, 92.74947305028606, 1348), 433)\n"
     ]
    }
   ],
   "source": [
    "solucion = {}\n",
    "total = len(df_viajes_filtered)\n",
    "for index, row in df_viajes_filtered.iterrows():\n",
    "    print(f\"Processing voyage {index + 1}/{total}...\")\n",
    "    # Get the voyage code and destination\n",
    "    codigo_viaje = row[\"CodigoViaje\"]\n",
    "    destinos = row[\"Destinos\"]\n",
    "\n",
    "    # Get the time of the voyage\n",
    "    time_viaje = row[\"FechaCierreEstancia\"]\n",
    "\n",
    "    # Select partidas that are scheduled to depart at the time of the voyage for each destination\n",
    "    df_partidas_destino = select_partidas_at_time_for_dest(df_partidas_filtered, time_viaje, destinos)\n",
    "    # Save the partidas df in an excel file\n",
    "    df_partidas_destino.to_excel(f\"data/inputs/week_input/partidas_{codigo_viaje}.xlsx\", index=False)\n",
    "\n",
    "    # If there are partidas for the destination, calculate volumes\n",
    "    if not df_partidas_destino.empty:\n",
    "        # Calculate volumes for the selected partidas\n",
    "        volumes = get_volumes(codigo_viaje, file_path=f\"data/inputs/week_input/partidas_{codigo_viaje}.xlsx\", save_path=\"data/outputs/week_output/\")\n",
    "        print(f\"Voyage: {codigo_viaje}, Destination: {destinos}, Volumes: {volumes}\")\n",
    "\n",
    "    with open(f\"data/outputs/week_output/output_{codigo_viaje}.json\", \"r\") as f:\n",
    "        # Load the solution from the output file\n",
    "        solucion = json.load(f)\n",
    "    # Update the partidas DataFrame with the volumes from the solution\n",
    "    df_partidas_filtered = update_partidas_warehouse(df_partidas_filtered, solucion)\n"
   ]
  },
  {
   "cell_type": "code",
   "execution_count": 18,
   "id": "fe46aab0",
   "metadata": {},
   "outputs": [
    {
     "name": "stdout",
     "output_type": "stream",
     "text": [
      "Results for voyage VBCN2501764:\n",
      "{\n",
      "    \"Volume Utilization\": 0.6051560154812188,\n",
      "    \"Floor Utilization\": 0.9560252935862692,\n",
      "    \"Max X\": 1350,\n",
      "    \"Weight Total Deviation\": 127.3573476233523,\n",
      "    \"Weight Horizontal Deviation\": 119.87451445824463,\n",
      "    \"Not Loaded Box Count\": 107\n",
      "}\n",
      "\n",
      "==================================================\n",
      "\n",
      "Results for voyage VBCN2501765:\n",
      "{\n",
      "    \"Volume Utilization\": 0.6152305383199692,\n",
      "    \"Floor Utilization\": 0.9274947305028606,\n",
      "    \"Max X\": 1348,\n",
      "    \"Weight Total Deviation\": 37.595189040236484,\n",
      "    \"Weight Horizontal Deviation\": 7.1415211047112885,\n",
      "    \"Not Loaded Box Count\": 433\n",
      "}\n",
      "\n",
      "==================================================\n",
      "\n",
      "Results for voyage VBCN2501768:\n",
      "{\n",
      "    \"Volume Utilization\": 0.8016480708350627,\n",
      "    \"Floor Utilization\": 0.949286359530262,\n",
      "    \"Max X\": 1339,\n",
      "    \"Weight Total Deviation\": 19.77653597068148,\n",
      "    \"Weight Horizontal Deviation\": 3.6067509887516223,\n",
      "    \"Not Loaded Box Count\": 120\n",
      "}\n",
      "\n",
      "==================================================\n",
      "\n",
      "Results for voyage VBCN2501779:\n",
      "{\n",
      "    \"Volume Utilization\": 0.79997854997855,\n",
      "    \"Floor Utilization\": 0.9324661246612466,\n",
      "    \"Max X\": 1348,\n",
      "    \"Weight Total Deviation\": 15.5366371994842,\n",
      "    \"Weight Horizontal Deviation\": 15.336089162061592,\n",
      "    \"Not Loaded Box Count\": 493\n",
      "}\n",
      "\n",
      "==================================================\n",
      "\n",
      "Results for voyage VBCN2501780:\n",
      "{\n",
      "    \"Volume Utilization\": 0.6931118807541572,\n",
      "    \"Floor Utilization\": 0.9681752484191508,\n",
      "    \"Max X\": 1350,\n",
      "    \"Weight Total Deviation\": 207.36685508621727,\n",
      "    \"Weight Horizontal Deviation\": 204.4250059894497,\n",
      "    \"Not Loaded Box Count\": 143\n",
      "}\n",
      "\n",
      "==================================================\n",
      "\n"
     ]
    }
   ],
   "source": [
    "outputs = os.listdir(\"data/outputs/week_output/\")\n",
    "\n",
    "for file in outputs:\n",
    "    if file.endswith(\".json\"):\n",
    "        with open(f\"data/outputs/week_output/{file}\", \"r\") as f:\n",
    "            solucion = json.load(f)\n",
    "        # Extract the voyage code from the filename\n",
    "        codigo_viaje = file.split(\"_\")[1].split(\".\")[0]\n",
    "        # Evalutate the solution\n",
    "        results = evaluate_solution(container_dimensions, solucion[\"solution\"], f\"data/inputs/week_input/partidas_{codigo_viaje}.xlsx\")\n",
    "        print(f\"Results for voyage {codigo_viaje}:\")\n",
    "        print(json.dumps(results, indent=4))\n",
    "        print(\"\\n\" + \"=\"*50 + \"\\n\")"
   ]
  },
  {
   "cell_type": "code",
   "execution_count": 17,
   "id": "87e47467",
   "metadata": {},
   "outputs": [
    {
     "data": {
      "text/plain": [
       "{'Volume Utilization': 0.6931118807541572,\n",
       " 'Floor Utilization': 0.9681752484191508,\n",
       " 'Max X': 1350,\n",
       " 'Weight Total Deviation': 207.36685508621727,\n",
       " 'Weight Horizontal Deviation': 204.4250059894497,\n",
       " 'Not Loaded Box Count': 143}"
      ]
     },
     "execution_count": 17,
     "metadata": {},
     "output_type": "execute_result"
    }
   ],
   "source": [
    "results"
   ]
  }
 ],
 "metadata": {
  "kernelspec": {
   "display_name": ".venv",
   "language": "python",
   "name": "python3"
  },
  "language_info": {
   "codemirror_mode": {
    "name": "ipython",
    "version": 3
   },
   "file_extension": ".py",
   "mimetype": "text/x-python",
   "name": "python",
   "nbconvert_exporter": "python",
   "pygments_lexer": "ipython3",
   "version": "3.11.9"
  }
 },
 "nbformat": 4,
 "nbformat_minor": 5
}
