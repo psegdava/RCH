{
 "cells": [
  {
   "cell_type": "code",
   "execution_count": 3,
   "metadata": {},
   "outputs": [],
   "source": [
    "import pandas as pd\n",
    "from RCH_module.RCH import get_volumes"
   ]
  },
  {
   "cell_type": "code",
   "execution_count": 4,
   "metadata": {},
   "outputs": [],
   "source": [
    "xls = pd.ExcelFile('input_total/2024 10 25 Viajes almacen bcn cargado con solo mercancia pasada por volumétrica con clonados.xlsx')\n",
    "viajes_df = pd.read_excel(xls, 'Viajes')\n",
    "partidas_df = pd.read_excel(xls, 'Partidas')"
   ]
  },
  {
   "cell_type": "code",
   "execution_count": 5,
   "metadata": {},
   "outputs": [],
   "source": [
    "partidas_df['Remontable'] = partidas_df['Remontable'].map({'NO': 0, 'SI': 1})"
   ]
  },
  {
   "cell_type": "code",
   "execution_count": 6,
   "metadata": {},
   "outputs": [],
   "source": [
    "viajes_df.loc[viajes_df['TipoEquipo'] == \"MAXI 45'\", 'AltoCm'] = 259\n",
    "viajes_df.loc[viajes_df['TipoEquipo'] == \"MAXI 45'\", 'LargoCm'] = 1350\n",
    "viajes_df.loc[viajes_df['TipoEquipo'] == \"MAXI 45'\", 'AnchoCm'] = 244\n",
    "\n",
    "viajes_df = viajes_df.drop(['TipoEquipoAltoMetros', 'TipoEquipoAnchoMetros', 'TipoEquipoLongitudMetros'], axis=1)"
   ]
  },
  {
   "cell_type": "code",
   "execution_count": 7,
   "metadata": {},
   "outputs": [],
   "source": [
    "partidas_mismo_dia_df = partidas_df[(partidas_df['FechaEntradaAlmacen'] > '2024-11-22') & (partidas_df['Destino'] == 'PMI')]\n",
    "partidas_mismo_dia_df = partidas_mismo_dia_df.sort_values(by=['FechaEntradaAlmacen'])\n",
    "partidas_mismo_dia_df['Volumen'] = partidas_mismo_dia_df['AltoCm']*partidas_mismo_dia_df['AnchoCm']*partidas_mismo_dia_df['LargoCm']\n",
    "partidas_mismo_dia_df['%Volumen'] = ((partidas_mismo_dia_df['Volumen'])/82350000)*100\n",
    "partidas_mismo_dia_df['CumVolumen'] = partidas_mismo_dia_df['%Volumen'].cumsum()"
   ]
  },
  {
   "cell_type": "code",
   "execution_count": 8,
   "metadata": {},
   "outputs": [],
   "source": [
    "partidas30 = partidas_mismo_dia_df[partidas_mismo_dia_df['CumVolumen'] < 30]"
   ]
  },
  {
   "cell_type": "code",
   "execution_count": 9,
   "metadata": {},
   "outputs": [],
   "source": [
    "viaje = partidas30['CodigoViaje']\n",
    "viaje = viaje.unique()[0]\n",
    "partidas30.to_excel(f'input_RCH/primera_{viaje}.xlsx')"
   ]
  },
  {
   "cell_type": "code",
   "execution_count": 10,
   "metadata": {},
   "outputs": [
    {
     "name": "stdout",
     "output_type": "stream",
     "text": [
      "Scores:  (27.738214404881074, 43.91207467630232, 642)\n",
      "Not loaded:  0\n",
      "Scores:  (27.738214404881074, 43.91207467630232, 649)\n",
      "Not loaded:  0\n",
      "Scores:  (27.738214404881074, 43.91207467630232, 650)\n",
      "Not loaded:  0\n",
      "Scores:  (27.738214404881074, 43.91207467630232, 657)\n",
      "Not loaded:  0\n",
      "Scores:  (27.738214404881074, 43.91207467630232, 661)\n",
      "Not loaded:  0\n"
     ]
    },
    {
     "data": {
      "text/plain": [
       "(27.738214404881067,\n",
       " (27.738214404881074, 43.91207467630232, 722),\n",
       " (27.738214404881074, 43.91207467630232, 722),\n",
       " 0)"
      ]
     },
     "execution_count": 10,
     "metadata": {},
     "output_type": "execute_result"
    }
   ],
   "source": [
    "get_volumes(viaje, load_type=2, file_path=f'input_RCH/primera_{viaje}.xlsx')"
   ]
  },
  {
   "cell_type": "code",
   "execution_count": 11,
   "metadata": {},
   "outputs": [],
   "source": [
    "partidas_resto = partidas_mismo_dia_df[partidas_mismo_dia_df['CumVolumen'] >= 30]"
   ]
  },
  {
   "cell_type": "code",
   "execution_count": 12,
   "metadata": {},
   "outputs": [],
   "source": [
    "partidas_resto.to_excel(f'input_RCH/resto_{viaje}.xlsx')"
   ]
  },
  {
   "cell_type": "code",
   "execution_count": 13,
   "metadata": {},
   "outputs": [
    {
     "name": "stdout",
     "output_type": "stream",
     "text": [
      "Scores:  (50.68520320552841, 87.27250828063836, 1280)\n",
      "Not loaded:  3\n",
      "Scores:  (50.70752517906989, 87.27250828063836, 1280)\n",
      "Not loaded:  3\n",
      "Scores:  (49.43517268720521, 84.38181270701595, 1280)\n",
      "Not loaded:  4\n",
      "Scores:  (48.06237131440383, 81.49111713339356, 1280)\n",
      "Not loaded:  5\n",
      "Scores:  (48.16282019534052, 81.49111713339356, 1280)\n",
      "Not loaded:  5\n"
     ]
    },
    {
     "data": {
      "text/plain": [
       "(49.82299090041662,\n",
       " (53.17410325540407, 93.05389942788317, 1322),\n",
       " (53.17410325540407, 93.05389942788317, 1322),\n",
       " 1)"
      ]
     },
     "execution_count": 13,
     "metadata": {},
     "output_type": "execute_result"
    }
   ],
   "source": [
    "get_volumes(viaje, load_type=4, file_path=f'input_RCH/resto_{viaje}.xlsx')"
   ]
  },
  {
   "cell_type": "code",
   "execution_count": null,
   "metadata": {},
   "outputs": [],
   "source": []
  }
 ],
 "metadata": {
  "kernelspec": {
   "display_name": "Python 3",
   "language": "python",
   "name": "python3"
  },
  "language_info": {
   "codemirror_mode": {
    "name": "ipython",
    "version": 3
   },
   "file_extension": ".py",
   "mimetype": "text/x-python",
   "name": "python",
   "nbconvert_exporter": "python",
   "pygments_lexer": "ipython3",
   "version": "3.11.9"
  }
 },
 "nbformat": 4,
 "nbformat_minor": 2
}
