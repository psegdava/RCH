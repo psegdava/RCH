{
 "cells": [
  {
   "cell_type": "code",
   "execution_count": 1,
   "metadata": {},
   "outputs": [],
   "source": [
    "import pandas as pd\n",
    "from RCH_module.RCH import get_volumes"
   ]
  },
  {
   "cell_type": "code",
   "execution_count": 2,
   "metadata": {},
   "outputs": [],
   "source": [
    "xls = pd.ExcelFile('input_total/2024 12 03 Viajes almacen bcn solo mercancia pasada por volumétrica con clonados, ADR y Aduanas.xlsx')\n",
    "viajes_df = pd.read_excel(xls, 'Viajes')\n",
    "partidas_df = pd.read_excel(xls, 'Partidas')\n"
   ]
  },
  {
   "cell_type": "code",
   "execution_count": 3,
   "metadata": {},
   "outputs": [],
   "source": [
    "partidas_df['Remontable'] = partidas_df['Remontable'].map({'NO': 0, 'SI': 1})"
   ]
  },
  {
   "cell_type": "code",
   "execution_count": 4,
   "metadata": {},
   "outputs": [],
   "source": [
    "viajes_df.loc[viajes_df['TipoEquipo'] == \"MAXI 45'\", 'AltoCm'] = 259\n",
    "viajes_df.loc[viajes_df['TipoEquipo'] == \"MAXI 45'\", 'LargoCm'] = 1350\n",
    "viajes_df.loc[viajes_df['TipoEquipo'] == \"MAXI 45'\", 'AnchoCm'] = 244\n",
    "\n",
    "viajes_df = viajes_df.drop(['TipoEquipoAltoMetros', 'TipoEquipoAnchoMetros', 'TipoEquipoLongitudMetros'], axis=1)"
   ]
  },
  {
   "cell_type": "code",
   "execution_count": 5,
   "metadata": {},
   "outputs": [],
   "source": [
    "partidas_df['Volumen'] = partidas_df['AltoCm']*partidas_df['AnchoCm']*partidas_df['LargoCm']\n"
   ]
  },
  {
   "cell_type": "code",
   "execution_count": 6,
   "metadata": {},
   "outputs": [],
   "source": [
    "volumen_total_por_viaje = partidas_df.groupby(by=['CodigoViaje'], as_index=False)['Volumen'].agg('sum')\n",
    "volumen_total_por_viaje.rename(columns={'Volumen': 'VolumenCargado'}, inplace=True)\n",
    "viajes_df = viajes_df.merge(volumen_total_por_viaje, how='left', on='CodigoViaje')\n",
    "\n",
    "viajes_df['VolumenMax'] = viajes_df['AltoCm']*viajes_df['AnchoCm']*viajes_df['LargoCm']\n",
    "viajes_df['Volumen%'] = viajes_df['VolumenCargado']/viajes_df['VolumenMax'] * 100 "
   ]
  },
  {
   "cell_type": "code",
   "execution_count": null,
   "metadata": {},
   "outputs": [
    {
     "data": {
      "text/plain": [
       "46"
      ]
     },
     "execution_count": 7,
     "metadata": {},
     "output_type": "execute_result"
    }
   ],
   "source": [
    "viajes_ultima_semana = viajes_df[(viajes_df['TipoEquipo'] == \"MAXI 45'\") & (viajes_df['FechaCierreViaje'] > '2024-12-10') & (viajes_df['PuroVolumetrica'] == 1)]\n",
    "viajes_prueba = viajes_ultima_semana[['CodigoViaje', 'NumPartidas', 'Volumen%']].copy()\n",
    "viajes_prueba = viajes_prueba.reset_index()\n",
    "len(viajes_ultima_semana)"
   ]
  },
  {
   "cell_type": "code",
   "execution_count": 27,
   "metadata": {},
   "outputs": [],
   "source": [
    "viaje = viajes_prueba.CodigoViaje.iloc[0]"
   ]
  },
  {
   "cell_type": "code",
   "execution_count": 28,
   "metadata": {},
   "outputs": [
    {
     "name": "stdout",
     "output_type": "stream",
     "text": [
      "Scores:  (69.71481353595175, 93.69286359530263, 1337)\n",
      "Not loaded:  0\n",
      "Scores:  (69.71481353595175, 92.71002710027099, 1321)\n",
      "Not loaded:  0\n",
      "Scores:  (69.71029333630959, 93.4977416440831, 1321)\n",
      "Not loaded:  1\n",
      "Scores:  (69.623258566348, 92.11201445347787, 1257)\n",
      "Not loaded:  1\n",
      "Scores:  (69.623258566348, 92.11201445347787, 1332)\n",
      "Not loaded:  1\n"
     ]
    }
   ],
   "source": [
    "test_df = partidas_df[partidas_df['CodigoViaje'] == viaje]\n",
    "\n",
    "# Guardar el archivo con un nombre único por viaje\n",
    "test_df.to_excel(f'viajes_prueba/test_{viaje}.xlsx', index=False)\n",
    "\n",
    "avg_volume, best_floor, best_volume, not_loaded = get_volumes(viaje, load_type=1, file_path=f'viajes_prueba/test_{viaje}.xlsx')\n",
    "\n",
    "viajes_prueba.loc[viajes_prueba['CodigoViaje'] == viaje, 'AverageVolume'] = avg_volume\n",
    "viajes_prueba.loc[viajes_prueba['CodigoViaje'] == viaje, 'BestFloorV'] = best_floor[0]\n",
    "viajes_prueba.loc[viajes_prueba['CodigoViaje'] == viaje, 'BestFloorF'] = best_floor[1]\n",
    "viajes_prueba.loc[viajes_prueba['CodigoViaje'] == viaje, 'BestVolumeV'] = best_volume[0]\n",
    "viajes_prueba.loc[viajes_prueba['CodigoViaje'] == viaje, 'BestVolumeF'] = best_volume[1]\n",
    "\n",
    "viajes_prueba.loc[viajes_prueba['CodigoViaje'] == viaje, 'NotLoaded'] = not_loaded"
   ]
  }
 ],
 "metadata": {
  "kernelspec": {
   "display_name": "Python 3",
   "language": "python",
   "name": "python3"
  },
  "language_info": {
   "codemirror_mode": {
    "name": "ipython",
    "version": 3
   },
   "file_extension": ".py",
   "mimetype": "text/x-python",
   "name": "python",
   "nbconvert_exporter": "python",
   "pygments_lexer": "ipython3",
   "version": "3.11.9"
  }
 },
 "nbformat": 4,
 "nbformat_minor": 2
}
