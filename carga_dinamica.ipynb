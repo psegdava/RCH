{
 "cells": [
  {
   "cell_type": "code",
   "execution_count": 1,
   "metadata": {},
   "outputs": [],
   "source": [
    "import pandas as pd\n",
    "from RCH import get_volumes"
   ]
  },
  {
   "cell_type": "code",
   "execution_count": 2,
   "metadata": {},
   "outputs": [],
   "source": [
    "xls = pd.ExcelFile('input_total/2024 10 25 Viajes almacen bcn cargado con solo mercancia pasada por volumétrica con clonados.xlsx')\n",
    "viajes_df = pd.read_excel(xls, 'Viajes')\n",
    "partidas_df = pd.read_excel(xls, 'Partidas')"
   ]
  },
  {
   "cell_type": "code",
   "execution_count": 3,
   "metadata": {},
   "outputs": [],
   "source": [
    "partidas_df['Remontable'] = partidas_df['Remontable'].map({'NO': 0, 'SI': 1})"
   ]
  },
  {
   "cell_type": "code",
   "execution_count": 4,
   "metadata": {},
   "outputs": [],
   "source": [
    "viajes_df.loc[viajes_df['TipoEquipo'] == \"MAXI 45'\", 'AltoCm'] = 259\n",
    "viajes_df.loc[viajes_df['TipoEquipo'] == \"MAXI 45'\", 'LargoCm'] = 1350\n",
    "viajes_df.loc[viajes_df['TipoEquipo'] == \"MAXI 45'\", 'AnchoCm'] = 244\n",
    "\n",
    "viajes_df = viajes_df.drop(['TipoEquipoAltoMetros', 'TipoEquipoAnchoMetros', 'TipoEquipoLongitudMetros'], axis=1)"
   ]
  },
  {
   "cell_type": "code",
   "execution_count": 5,
   "metadata": {},
   "outputs": [],
   "source": [
    "partidas_mismo_dia_df = partidas_df[(partidas_df['FechaEntradaAlmacen'] > '2024-11-22') & (partidas_df['Destino'] == 'PMI')]\n",
    "partidas_mismo_dia_df = partidas_mismo_dia_df.sort_values(by=['FechaEntradaAlmacen'])\n",
    "partidas_mismo_dia_df['Volumen'] = partidas_mismo_dia_df['AltoCm']*partidas_mismo_dia_df['AnchoCm']*partidas_mismo_dia_df['LargoCm']\n",
    "partidas_mismo_dia_df['%Volumen'] = ((partidas_mismo_dia_df['Volumen'])/82350000)*100\n",
    "partidas_mismo_dia_df['CumVolumen'] = partidas_mismo_dia_df['%Volumen'].cumsum()"
   ]
  },
  {
   "cell_type": "code",
   "execution_count": 6,
   "metadata": {},
   "outputs": [],
   "source": [
    "partidas30 = partidas_mismo_dia_df[partidas_mismo_dia_df['CumVolumen'] < 30]"
   ]
  },
  {
   "cell_type": "code",
   "execution_count": 8,
   "metadata": {},
   "outputs": [],
   "source": [
    "viaje = partidas30['CodigoViaje']\n",
    "viaje = viaje.unique()[0]\n",
    "partidas30.to_excel(f'input_RCH/primera_{viaje}.xlsx')"
   ]
  },
  {
   "cell_type": "code",
   "execution_count": 9,
   "metadata": {},
   "outputs": [
    {
     "name": "stdout",
     "output_type": "stream",
     "text": [
      "Scores:  (28.638673802608228, 38.96508803885853, 572)\n",
      "Not loaded:  0\n"
     ]
    },
    {
     "ename": "IndexError",
     "evalue": "list index out of range",
     "output_type": "error",
     "traceback": [
      "\u001b[1;31m---------------------------------------------------------------------------\u001b[0m",
      "\u001b[1;31mIndexError\u001b[0m                                Traceback (most recent call last)",
      "Cell \u001b[1;32mIn[9], line 1\u001b[0m\n\u001b[1;32m----> 1\u001b[0m \u001b[43mget_volumes\u001b[49m\u001b[43m(\u001b[49m\u001b[43mviaje\u001b[49m\u001b[43m,\u001b[49m\u001b[43m \u001b[49m\u001b[43mload_type\u001b[49m\u001b[38;5;241;43m=\u001b[39;49m\u001b[38;5;241;43m2\u001b[39;49m\u001b[43m,\u001b[49m\u001b[43m \u001b[49m\u001b[43mfile_path\u001b[49m\u001b[38;5;241;43m=\u001b[39;49m\u001b[38;5;124;43m'\u001b[39;49m\u001b[38;5;124;43minput_RCH/primera_\u001b[39;49m\u001b[38;5;132;43;01m{viaje}\u001b[39;49;00m\u001b[38;5;124;43m.xlsx\u001b[39;49m\u001b[38;5;124;43m'\u001b[39;49m\u001b[38;5;241;43m.\u001b[39;49m\u001b[43mformat\u001b[49m\u001b[43m(\u001b[49m\u001b[43mviaje\u001b[49m\u001b[38;5;241;43m=\u001b[39;49m\u001b[43mviaje\u001b[49m\u001b[43m)\u001b[49m\u001b[43m)\u001b[49m\n",
      "File \u001b[1;32mc:\\Users\\psegd\\Desktop\\RCH_Algorithm\\RCH.py:163\u001b[0m, in \u001b[0;36mget_volumes\u001b[1;34m(viaje, load_type, file_path)\u001b[0m\n\u001b[0;32m    161\u001b[0m \u001b[38;5;66;03m# We visualize the best solutions based on whichever score we prefer\u001b[39;00m\n\u001b[0;32m    162\u001b[0m \u001b[38;5;28;01mfor\u001b[39;00m i \u001b[38;5;129;01min\u001b[39;00m \u001b[38;5;28mrange\u001b[39m(\u001b[38;5;241m15000\u001b[39m):\n\u001b[1;32m--> 163\u001b[0m     show_boxes(all_solutions[\u001b[43msorted_keys\u001b[49m\u001b[43m[\u001b[49m\u001b[43mi\u001b[49m\u001b[43m]\u001b[49m][\u001b[38;5;241m0\u001b[39m])\n\u001b[0;32m    164\u001b[0m     \u001b[38;5;28mprint\u001b[39m(\u001b[38;5;124m'\u001b[39m\u001b[38;5;124mScores: \u001b[39m\u001b[38;5;124m'\u001b[39m, sorted_keys[i])\n\u001b[0;32m    165\u001b[0m     \u001b[38;5;28mprint\u001b[39m(\u001b[38;5;124m'\u001b[39m\u001b[38;5;124mNot loaded: \u001b[39m\u001b[38;5;124m'\u001b[39m, \u001b[38;5;28mlen\u001b[39m(all_solutions[sorted_keys[i]][\u001b[38;5;241m1\u001b[39m]))\n",
      "\u001b[1;31mIndexError\u001b[0m: list index out of range"
     ]
    }
   ],
   "source": [
    "get_volumes(viaje, load_type=2, file_path='input_RCH/primera_{viaje}.xlsx'.format(viaje=viaje))"
   ]
  },
  {
   "cell_type": "code",
   "execution_count": 10,
   "metadata": {},
   "outputs": [],
   "source": [
    "partidas_resto = partidas_mismo_dia_df[partidas_mismo_dia_df['CumVolumen'] >= 30]"
   ]
  },
  {
   "cell_type": "code",
   "execution_count": 11,
   "metadata": {},
   "outputs": [],
   "source": [
    "partidas_resto.to_excel(f'input_RCH/resto_{viaje}.xlsx')"
   ]
  },
  {
   "cell_type": "code",
   "execution_count": 12,
   "metadata": {},
   "outputs": [
    {
     "name": "stdout",
     "output_type": "stream",
     "text": [
      "Scores:  (54.853941763777826, 68.47449908925319, 1018)\n",
      "Not loaded:  0\n"
     ]
    },
    {
     "ename": "IndexError",
     "evalue": "list index out of range",
     "output_type": "error",
     "traceback": [
      "\u001b[1;31m---------------------------------------------------------------------------\u001b[0m",
      "\u001b[1;31mIndexError\u001b[0m                                Traceback (most recent call last)",
      "Cell \u001b[1;32mIn[12], line 1\u001b[0m\n\u001b[1;32m----> 1\u001b[0m \u001b[43mget_volumes\u001b[49m\u001b[43m(\u001b[49m\u001b[43mviaje\u001b[49m\u001b[43m,\u001b[49m\u001b[43m \u001b[49m\u001b[43mload_type\u001b[49m\u001b[38;5;241;43m=\u001b[39;49m\u001b[38;5;241;43m4\u001b[39;49m\u001b[43m,\u001b[49m\u001b[43m \u001b[49m\u001b[43mfile_path\u001b[49m\u001b[38;5;241;43m=\u001b[39;49m\u001b[38;5;124;43mf\u001b[39;49m\u001b[38;5;124;43m'\u001b[39;49m\u001b[38;5;124;43minput_RCH/resto_\u001b[39;49m\u001b[38;5;132;43;01m{\u001b[39;49;00m\u001b[43mviaje\u001b[49m\u001b[38;5;132;43;01m}\u001b[39;49;00m\u001b[38;5;124;43m.xlsx\u001b[39;49m\u001b[38;5;124;43m'\u001b[39;49m\u001b[43m)\u001b[49m\n",
      "File \u001b[1;32mc:\\Users\\psegd\\Desktop\\RCH_Algorithm\\RCH.py:163\u001b[0m, in \u001b[0;36mget_volumes\u001b[1;34m(viaje, load_type, file_path)\u001b[0m\n\u001b[0;32m    161\u001b[0m \u001b[38;5;66;03m# We visualize the best solutions based on whichever score we prefer\u001b[39;00m\n\u001b[0;32m    162\u001b[0m \u001b[38;5;28;01mfor\u001b[39;00m i \u001b[38;5;129;01min\u001b[39;00m \u001b[38;5;28mrange\u001b[39m(\u001b[38;5;241m15000\u001b[39m):\n\u001b[1;32m--> 163\u001b[0m     show_boxes(all_solutions[\u001b[43msorted_keys\u001b[49m\u001b[43m[\u001b[49m\u001b[43mi\u001b[49m\u001b[43m]\u001b[49m][\u001b[38;5;241m0\u001b[39m])\n\u001b[0;32m    164\u001b[0m     \u001b[38;5;28mprint\u001b[39m(\u001b[38;5;124m'\u001b[39m\u001b[38;5;124mScores: \u001b[39m\u001b[38;5;124m'\u001b[39m, sorted_keys[i])\n\u001b[0;32m    165\u001b[0m     \u001b[38;5;28mprint\u001b[39m(\u001b[38;5;124m'\u001b[39m\u001b[38;5;124mNot loaded: \u001b[39m\u001b[38;5;124m'\u001b[39m, \u001b[38;5;28mlen\u001b[39m(all_solutions[sorted_keys[i]][\u001b[38;5;241m1\u001b[39m]))\n",
      "\u001b[1;31mIndexError\u001b[0m: list index out of range"
     ]
    }
   ],
   "source": [
    "get_volumes(viaje, load_type=4, file_path=f'input_RCH/resto_{viaje}.xlsx')"
   ]
  },
  {
   "cell_type": "code",
   "execution_count": null,
   "metadata": {},
   "outputs": [],
   "source": []
  }
 ],
 "metadata": {
  "kernelspec": {
   "display_name": "Python 3",
   "language": "python",
   "name": "python3"
  },
  "language_info": {
   "codemirror_mode": {
    "name": "ipython",
    "version": 3
   },
   "file_extension": ".py",
   "mimetype": "text/x-python",
   "name": "python",
   "nbconvert_exporter": "python",
   "pygments_lexer": "ipython3",
   "version": "3.11.9"
  }
 },
 "nbformat": 4,
 "nbformat_minor": 2
}
